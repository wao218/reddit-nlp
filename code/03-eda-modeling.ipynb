{
 "cells": [
  {
   "cell_type": "markdown",
   "id": "ba3c4e0d-a850-4456-aac0-9f15ecb90c32",
   "metadata": {},
   "source": [
    "<img src=\"http://imgur.com/1ZcRyrc.png\" style=\"float: left; margin: 20px; height: 55px\">\n",
    "\n",
    "# Project 3: Web APIs & NLP\n",
    "\n",
    "---\n",
    "## Problem Statement\n",
    "\n",
    "Maker Faire Conference wants to do a fun interactive app for their attendees at the upcoming conference. For the attendees who are fans of Arduinos and Raspberry Pi they want to build a classification model that will identify which person is a fan of either device based on the text they enter into the app. The goal of the model is to be as accurate as possible. The hope for this project is to delight the attendees and retain attendance for future conferences.\n",
    "\n",
    "---"
   ]
  },
  {
   "cell_type": "code",
   "execution_count": 124,
   "id": "3521fa59-098a-4c95-a538-a9b48f04be87",
   "metadata": {},
   "outputs": [],
   "source": [
    "# Imports\n",
    "import pandas as pd\n",
    "import numpy as np\n",
    "import seaborn as sns\n",
    "import matplotlib.pyplot as plt\n",
    "\n",
    "from sklearn.model_selection import train_test_split, GridSearchCV, cross_val_score\n",
    "from sklearn.pipeline import Pipeline\n",
    "from sklearn.metrics import confusion_matrix, plot_confusion_matrix\n",
    "from sklearn.feature_extraction.text import CountVectorizer, TfidfVectorizer\n",
    "from sklearn.ensemble import RandomForestClassifier\n",
    "from sklearn.neighbors import KNeighborsClassifier\n",
    "from sklearn.preprocessing import StandardScaler"
   ]
  },
  {
   "cell_type": "code",
   "execution_count": 4,
   "id": "38bb3a78-240c-4534-9606-44ec040942b2",
   "metadata": {},
   "outputs": [
    {
     "data": {
      "text/html": [
       "<div>\n",
       "<style scoped>\n",
       "    .dataframe tbody tr th:only-of-type {\n",
       "        vertical-align: middle;\n",
       "    }\n",
       "\n",
       "    .dataframe tbody tr th {\n",
       "        vertical-align: top;\n",
       "    }\n",
       "\n",
       "    .dataframe thead th {\n",
       "        text-align: right;\n",
       "    }\n",
       "</style>\n",
       "<table border=\"1\" class=\"dataframe\">\n",
       "  <thead>\n",
       "    <tr style=\"text-align: right;\">\n",
       "      <th></th>\n",
       "      <th>subreddit</th>\n",
       "      <th>title</th>\n",
       "      <th>selftext</th>\n",
       "    </tr>\n",
       "  </thead>\n",
       "  <tbody>\n",
       "    <tr>\n",
       "      <th>0</th>\n",
       "      <td>arduino</td>\n",
       "      <td>Can I use a usb bluetooth adapter on a Leonardo?</td>\n",
       "      <td>I have a little Beetle board that is a Leonard...</td>\n",
       "    </tr>\n",
       "    <tr>\n",
       "      <th>1</th>\n",
       "      <td>arduino</td>\n",
       "      <td>long shot but does anyone have a 3d model of t...</td>\n",
       "      <td>I want to build a 3d enclosure for this board ...</td>\n",
       "    </tr>\n",
       "    <tr>\n",
       "      <th>2</th>\n",
       "      <td>arduino</td>\n",
       "      <td>Need help understanding some variables and fun...</td>\n",
       "      <td>I need to understand the code from [this](http...</td>\n",
       "    </tr>\n",
       "    <tr>\n",
       "      <th>3</th>\n",
       "      <td>arduino</td>\n",
       "      <td>A picture book teaches C programming basics</td>\n",
       "      <td>When I was learning C programming, I found tha...</td>\n",
       "    </tr>\n",
       "    <tr>\n",
       "      <th>4</th>\n",
       "      <td>arduino</td>\n",
       "      <td>How to trick an airbag controller</td>\n",
       "      <td>Not exactly Arduino related, but hopefully som...</td>\n",
       "    </tr>\n",
       "  </tbody>\n",
       "</table>\n",
       "</div>"
      ],
      "text/plain": [
       "  subreddit                                              title  \\\n",
       "0   arduino   Can I use a usb bluetooth adapter on a Leonardo?   \n",
       "1   arduino  long shot but does anyone have a 3d model of t...   \n",
       "2   arduino  Need help understanding some variables and fun...   \n",
       "3   arduino        A picture book teaches C programming basics   \n",
       "4   arduino                  How to trick an airbag controller   \n",
       "\n",
       "                                            selftext  \n",
       "0  I have a little Beetle board that is a Leonard...  \n",
       "1  I want to build a 3d enclosure for this board ...  \n",
       "2  I need to understand the code from [this](http...  \n",
       "3  When I was learning C programming, I found tha...  \n",
       "4  Not exactly Arduino related, but hopefully som...  "
      ]
     },
     "execution_count": 4,
     "metadata": {},
     "output_type": "execute_result"
    }
   ],
   "source": [
    "# read in subreddit data\n",
    "subreddits = pd.read_csv('../data/subreddits.csv')\n",
    "subreddits.head()"
   ]
  },
  {
   "cell_type": "markdown",
   "id": "eb671652-507f-4f09-884f-d8fb6a33e717",
   "metadata": {},
   "source": [
    "# Exploratory Data Analysis"
   ]
  },
  {
   "cell_type": "markdown",
   "id": "5ab1e5dd-9895-4b0a-846c-26131572b5e7",
   "metadata": {
    "tags": []
   },
   "source": [
    "## Pre-Processing"
   ]
  },
  {
   "cell_type": "code",
   "execution_count": 29,
   "id": "e5be9915-dbaa-4089-9b08-81b8df741786",
   "metadata": {},
   "outputs": [],
   "source": [
    "# transform subreddit class into 0 and 1s\n",
    "subreddits['sub_label'] = subreddits['subreddit'].map({'arduino': 0, 'raspberry_pi': 1})\n",
    "\n",
    "# Combine subreddit title and selftext to easily pass through vectorizer\n",
    "subreddits['post_text'] = subreddits['title'] + subreddits['selftext']"
   ]
  },
  {
   "cell_type": "code",
   "execution_count": 96,
   "id": "09877042-21cd-46f7-9688-02cfc6f87fc4",
   "metadata": {},
   "outputs": [],
   "source": [
    "subreddits['post_length'] = subreddits['post_text'].apply(len)\n",
    "subreddits['post_word_count'] = subreddits['post_text'].apply(lambda x: len(x.split()))"
   ]
  },
  {
   "cell_type": "code",
   "execution_count": 97,
   "id": "c767af58-595b-4233-a1d9-b79550fb78e3",
   "metadata": {},
   "outputs": [
    {
     "data": {
      "text/html": [
       "<div>\n",
       "<style scoped>\n",
       "    .dataframe tbody tr th:only-of-type {\n",
       "        vertical-align: middle;\n",
       "    }\n",
       "\n",
       "    .dataframe tbody tr th {\n",
       "        vertical-align: top;\n",
       "    }\n",
       "\n",
       "    .dataframe thead th {\n",
       "        text-align: right;\n",
       "    }\n",
       "</style>\n",
       "<table border=\"1\" class=\"dataframe\">\n",
       "  <thead>\n",
       "    <tr style=\"text-align: right;\">\n",
       "      <th></th>\n",
       "      <th>sub_label</th>\n",
       "      <th>post_length</th>\n",
       "      <th>post_word_count</th>\n",
       "    </tr>\n",
       "  </thead>\n",
       "  <tbody>\n",
       "    <tr>\n",
       "      <th>count</th>\n",
       "      <td>5176.000000</td>\n",
       "      <td>5176.000000</td>\n",
       "      <td>5176.000000</td>\n",
       "    </tr>\n",
       "    <tr>\n",
       "      <th>mean</th>\n",
       "      <td>0.519513</td>\n",
       "      <td>921.503091</td>\n",
       "      <td>140.597372</td>\n",
       "    </tr>\n",
       "    <tr>\n",
       "      <th>std</th>\n",
       "      <td>0.499667</td>\n",
       "      <td>1443.334535</td>\n",
       "      <td>180.468613</td>\n",
       "    </tr>\n",
       "    <tr>\n",
       "      <th>min</th>\n",
       "      <td>0.000000</td>\n",
       "      <td>2.000000</td>\n",
       "      <td>1.000000</td>\n",
       "    </tr>\n",
       "    <tr>\n",
       "      <th>25%</th>\n",
       "      <td>0.000000</td>\n",
       "      <td>364.000000</td>\n",
       "      <td>63.000000</td>\n",
       "    </tr>\n",
       "    <tr>\n",
       "      <th>50%</th>\n",
       "      <td>1.000000</td>\n",
       "      <td>566.500000</td>\n",
       "      <td>96.000000</td>\n",
       "    </tr>\n",
       "    <tr>\n",
       "      <th>75%</th>\n",
       "      <td>1.000000</td>\n",
       "      <td>927.000000</td>\n",
       "      <td>153.000000</td>\n",
       "    </tr>\n",
       "    <tr>\n",
       "      <th>max</th>\n",
       "      <td>1.000000</td>\n",
       "      <td>32282.000000</td>\n",
       "      <td>3634.000000</td>\n",
       "    </tr>\n",
       "  </tbody>\n",
       "</table>\n",
       "</div>"
      ],
      "text/plain": [
       "         sub_label   post_length  post_word_count\n",
       "count  5176.000000   5176.000000      5176.000000\n",
       "mean      0.519513    921.503091       140.597372\n",
       "std       0.499667   1443.334535       180.468613\n",
       "min       0.000000      2.000000         1.000000\n",
       "25%       0.000000    364.000000        63.000000\n",
       "50%       1.000000    566.500000        96.000000\n",
       "75%       1.000000    927.000000       153.000000\n",
       "max       1.000000  32282.000000      3634.000000"
      ]
     },
     "execution_count": 97,
     "metadata": {},
     "output_type": "execute_result"
    }
   ],
   "source": [
    "subreddits.describe()"
   ]
  },
  {
   "cell_type": "code",
   "execution_count": 98,
   "id": "c51d067e-6fac-4b06-95bc-eb81814e6d00",
   "metadata": {},
   "outputs": [],
   "source": [
    "arduino = subreddits[subreddits['subreddit'] == 'arduino']\n",
    "raspberrypi = subreddits[subreddits['subreddit'] == 'raspberry_pi']"
   ]
  },
  {
   "cell_type": "code",
   "execution_count": 104,
   "id": "293ace0f-b38a-4763-927d-ee7339ae5de1",
   "metadata": {},
   "outputs": [
    {
     "data": {
      "image/png": "[encoded data removed]",
      "text/plain": [
       "<Figure size 1152x1152 with 4 Axes>"
      ]
     },
     "metadata": {
      "needs_background": "light"
     },
     "output_type": "display_data"
    }
   ],
   "source": [
    "fig, ax = plt.subplots(2, 2, figsize=(16, 16))\n",
    "sns.histplot(arduino['post_length'], ax=ax[0,0])\n",
    "sns.histplot(raspberrypi['post_length'], ax=ax[0,1])\n",
    "sns.histplot(arduino['post_word_count'], ax=ax[1,0])\n",
    "sns.histplot(raspberrypi['post_word_count'], ax=ax[1,1])\n",
    "\n",
    "ax[0,0].set(xlabel='Post Character Length', title='Arduino Post Character Length')\n",
    "ax[0,1].set(xlabel='Post Character Length', title='Raspberry Pi Post Character Length')\n",
    "ax[1,0].set(xlabel='Post Word Count', title='Arduino Post Word Count')\n",
    "ax[1,1].set(xlabel='Post Word Count', title='Raspberry Pi Post Word Count')\n",
    "\n",
    "fig.suptitle('Character & Word Count', fontsize=20);"
   ]
  },
  {
   "cell_type": "markdown",
   "id": "b740f522-0bad-4647-965b-61b75add8118",
   "metadata": {},
   "source": [
    "It appears that both Arduino and Raspberry Pi subreddits have roughly the same distribution for post character counts, with Raspberry Pi having a slightly higher mean count. Raspberry Pi subreddit has slightly longer posts compared to the Arduino subreddit."
   ]
  },
  {
   "cell_type": "code",
   "execution_count": 122,
   "id": "48e715d8-978b-4921-a88f-debee87bcdc6",
   "metadata": {},
   "outputs": [],
   "source": [
    "# Instantiate CountVectorizer\n",
    "cvec = CountVectorizer(stop_words='english')\n",
    "\n",
    "# Fit cvec on subreddit corpus and convert to dataframe\n",
    "arduino_vec = cvec.fit_transform(arduino['post_text'])\n",
    "arduino_vec_df = pd.DataFrame(arduino_vec.todense(), columns=cvec.get_feature_names())\n",
    "\n",
    "raspberrypi_vec = cvec.fit_transform(raspberrypi['post_text'])\n",
    "raspberrypi_vec_df = pd.DataFrame(raspberrypi_vec.todense(), columns=cvec.get_feature_names())"
   ]
  },
  {
   "cell_type": "code",
   "execution_count": 123,
   "id": "d038f4b6-d928-4ff3-a3b8-7160eb5bafcd",
   "metadata": {},
   "outputs": [
    {
     "data": {
      "image/png": "[encoded data removed]",
      "text/plain": [
       "<Figure size 1152x432 with 2 Axes>"
      ]
     },
     "metadata": {
      "needs_background": "light"
     },
     "output_type": "display_data"
    }
   ],
   "source": [
    "# plot top occurring words\n",
    "fig, ax = plt.subplots(1, 2, figsize=(16,6))\n",
    "arduino_vec_df.sum().sort_values(ascending=False).head(15).plot(kind='barh', ax=ax[0], fontsize=12)\n",
    "raspberrypi_vec_df.sum().sort_values(ascending=False).head(15).plot(kind='barh', ax=ax[1], fontsize=12)\n",
    "\n",
    "ax[0].set_title('Arduino', fontsize=14)\n",
    "ax[1].set_title('Raspberry Pi', fontsize=14)\n",
    "\n",
    "fig.suptitle('Top 10 Words', fontsize=24)\n",
    "fig.text(0.5, 0.04, 'Number of Occurances', ha='center', fontsize=18);"
   ]
  },
  {
   "cell_type": "markdown",
   "id": "99316f7c-d1b7-4f07-84fa-f5241670d2e4",
   "metadata": {},
   "source": [
    "Arduino and amp are the most common words appearing more than 3500 times across the posts in the Arduino subreddit. rapberry and pi are the most common words in the Raspberry pi subreddits. There are some similaries across both subreddits such as: help, need, https, but there seems to be enough differences between the most common words."
   ]
  },
  {
   "cell_type": "markdown",
   "id": "9db43afb-0a3e-4a5c-877e-e4f678466de0",
   "metadata": {},
   "source": [
    "# Modeling with CountVectorizer"
   ]
  },
  {
   "cell_type": "markdown",
   "id": "76a8669b-9823-4234-b1b6-a9f275d0a8b8",
   "metadata": {},
   "source": [
    "## Random Forest Modeling"
   ]
  },
  {
   "cell_type": "code",
   "execution_count": 94,
   "id": "cfafd755-b45d-457d-9ebe-ce56d24399dd",
   "metadata": {},
   "outputs": [],
   "source": [
    "# Feature\n",
    "X = subreddits['post_text']\n",
    "# Target\n",
    "y = subreddits['sub_label']\n",
    "\n",
    "# Train/Test split the data\n",
    "X_train, X_test, y_train, y_test = train_test_split(X, y, \n",
    "                                                    test_size=.33, \n",
    "                                                    stratify=y, \n",
    "                                                    random_state=42)"
   ]
  },
  {
   "cell_type": "code",
   "execution_count": 31,
   "id": "5c936902-9990-462b-8dbd-ce72ce5d56d0",
   "metadata": {},
   "outputs": [
    {
     "data": {
      "text/plain": [
       "1    0.519513\n",
       "0    0.480487\n",
       "Name: sub_label, dtype: float64"
      ]
     },
     "execution_count": 31,
     "metadata": {},
     "output_type": "execute_result"
    }
   ],
   "source": [
    "# Baseline accuracy --> 52%\n",
    "y.value_counts(normalize=True)"
   ]
  },
  {
   "cell_type": "code",
   "execution_count": 72,
   "id": "96ce0474-9382-40ea-b46e-a23c3c83ef6b",
   "metadata": {},
   "outputs": [
    {
     "name": "stdout",
     "output_type": "stream",
     "text": [
      "Fitting 5 folds for each of 128 candidates, totalling 640 fits\n",
      "0.9538509841103501\n",
      "CPU times: user 6.58 s, sys: 1.1 s, total: 7.68 s\n",
      "Wall time: 18min 3s\n"
     ]
    },
    {
     "data": {
      "text/plain": [
       "{'cvec__max_df': 0.9,\n",
       " 'cvec__max_features': 2000,\n",
       " 'cvec__min_df': 3,\n",
       " 'cvec__ngram_range': (1, 1),\n",
       " 'rf__max_depth': None,\n",
       " 'rf__max_features': 'sqrt',\n",
       " 'rf__n_estimators': 100}"
      ]
     },
     "execution_count": 72,
     "metadata": {},
     "output_type": "execute_result"
    }
   ],
   "source": [
    "%%time\n",
    "# Create pipeline\n",
    "rfpipe = Pipeline([\n",
    "    ('cvec', CountVectorizer(stop_words='english')),\n",
    "    ('rf', RandomForestClassifier(random_state=42))\n",
    "])\n",
    "\n",
    "# Setup pipe parameters\n",
    "pipe_params = {\n",
    "    'cvec__max_features': [2000, 3000],\n",
    "    'cvec__min_df': [2, 3],\n",
    "    'cvec__max_df': [0.90, 0.95],\n",
    "    'cvec__ngram_range': [(1, 1), (1, 2)],\n",
    "    'rf__n_estimators': [100, 200],\n",
    "    'rf__max_depth': [None, 3],\n",
    "    'rf__max_features': ['sqrt', 0.50]\n",
    "    \n",
    "}\n",
    "\n",
    "# Instantiate GridSearch with pipe and parameters\n",
    "gs = GridSearchCV(rfpipe, pipe_params, cv = 5, n_jobs = -1, verbose = 1)\n",
    "\n",
    "# Fit grid search model with train data\n",
    "gs.fit(X_train, y_train)\n",
    "\n",
    "# Print best score from best model\n",
    "print(gs.best_score_)\n",
    "\n",
    "# Print parameters from best model\n",
    "gs.best_params_"
   ]
  },
  {
   "cell_type": "code",
   "execution_count": 73,
   "id": "9267d018-e881-434a-b0ea-56fc0af62301",
   "metadata": {},
   "outputs": [
    {
     "data": {
      "text/plain": [
       "1.0"
      ]
     },
     "execution_count": 73,
     "metadata": {},
     "output_type": "execute_result"
    }
   ],
   "source": [
    "# score train data\n",
    "gs.score(X_train, y_train)"
   ]
  },
  {
   "cell_type": "code",
   "execution_count": 74,
   "id": "19906ff1-08c1-42da-814d-465330a25cbf",
   "metadata": {},
   "outputs": [
    {
     "data": {
      "text/plain": [
       "0.9607957870099474"
      ]
     },
     "execution_count": 74,
     "metadata": {},
     "output_type": "execute_result"
    }
   ],
   "source": [
    "# score test data\n",
    "gs.score(X_test, y_test)"
   ]
  },
  {
   "cell_type": "code",
   "execution_count": 81,
   "id": "0c45332d-8a27-4771-877d-d2ae6b996f41",
   "metadata": {},
   "outputs": [
    {
     "data": {
      "image/png": "[encoded data removed]",
      "text/plain": [
       "<Figure size 432x288 with 2 Axes>"
      ]
     },
     "metadata": {
      "needs_background": "light"
     },
     "output_type": "display_data"
    }
   ],
   "source": [
    "# Plot confusion matrix\n",
    "plot_confusion_matrix(gs, X_test, y_test, display_labels=['arduino', 'rasperry pi'], cmap='Blues');"
   ]
  },
  {
   "cell_type": "markdown",
   "id": "d07fd165-7464-42f4-83f4-a47e14884440",
   "metadata": {},
   "source": [
    "The Random Forest model is overfitting on the train data, but even with that, the model has about a 96.08% accuracy rate at predicting subreddits. Out of all the data in the test set the model produced 67 errors."
   ]
  },
  {
   "cell_type": "markdown",
   "id": "a72b352b-8ab0-45db-a452-46eb1c07cd22",
   "metadata": {},
   "source": [
    "## KNN Modeling"
   ]
  },
  {
   "cell_type": "code",
   "execution_count": 82,
   "id": "a1addc73-85ca-420c-a1d0-37091a474c8a",
   "metadata": {},
   "outputs": [
    {
     "name": "stdout",
     "output_type": "stream",
     "text": [
      "Fitting 5 folds for each of 128 candidates, totalling 640 fits\n",
      "0.8142545254937186\n",
      "CPU times: user 6.08 s, sys: 1.02 s, total: 7.1 s\n",
      "Wall time: 7min 27s\n"
     ]
    },
    {
     "data": {
      "text/plain": [
       "{'cvec__max_df': 0.9,\n",
       " 'cvec__max_features': 2000,\n",
       " 'cvec__min_df': 2,\n",
       " 'cvec__ngram_range': (1, 2),\n",
       " 'knn__n_neighbors': 5,\n",
       " 'knn__p': 2,\n",
       " 'knn__weights': 'distance'}"
      ]
     },
     "execution_count": 82,
     "metadata": {},
     "output_type": "execute_result"
    }
   ],
   "source": [
    "%%time\n",
    "\n",
    "# create pipeline\n",
    "knnpipe = Pipeline([\n",
    "    ('cvec', CountVectorizer(stop_words='english')),\n",
    "    ('knn', KNeighborsClassifier())\n",
    "])\n",
    "\n",
    "# setup pipe parameters\n",
    "pipe_params = {\n",
    "    'cvec__max_features': [2000, 3000],\n",
    "    'cvec__min_df': [2, 3],\n",
    "    'cvec__max_df': [0.90, 0.95],\n",
    "    'cvec__ngram_range': [(1, 1), (1, 2)],\n",
    "    'knn__p': [1,2],\n",
    "    'knn__weights': ['uniform', 'distance'],\n",
    "    'knn__n_neighbors': [3, 5]\n",
    "}\n",
    "\n",
    "# Instantiate GridSearch with pipe and parameters\n",
    "gs = GridSearchCV(knnpipe, pipe_params, cv = 5, n_jobs = -1, verbose = 1)\n",
    "\n",
    "# Fit grid search model with train data\n",
    "gs.fit(X_train, y_train)\n",
    "\n",
    "# Print best score from best model\n",
    "print(gs.best_score_)\n",
    "\n",
    "# Print parameters from best model\n",
    "gs.best_params_"
   ]
  },
  {
   "cell_type": "code",
   "execution_count": 83,
   "id": "7ba9608f-b440-4675-a9a0-e6965f15ccee",
   "metadata": {},
   "outputs": [
    {
     "data": {
      "text/plain": [
       "0.9994231323911162"
      ]
     },
     "execution_count": 83,
     "metadata": {},
     "output_type": "execute_result"
    }
   ],
   "source": [
    "# score train data\n",
    "gs.score(X_train, y_train)"
   ]
  },
  {
   "cell_type": "code",
   "execution_count": 84,
   "id": "95d9f54c-a912-49d7-9cab-949db8fb1d8e",
   "metadata": {},
   "outputs": [
    {
     "data": {
      "text/plain": [
       "0.8385020479812756"
      ]
     },
     "execution_count": 84,
     "metadata": {},
     "output_type": "execute_result"
    }
   ],
   "source": [
    "# score test data\n",
    "gs.score(X_test, y_test)"
   ]
  },
  {
   "cell_type": "code",
   "execution_count": 85,
   "id": "666829c2-c979-4ba6-9cfb-c192a72052fa",
   "metadata": {},
   "outputs": [
    {
     "data": {
      "image/png": "[encoded data removed]",
      "text/plain": [
       "<Figure size 432x288 with 2 Axes>"
      ]
     },
     "metadata": {
      "needs_background": "light"
     },
     "output_type": "display_data"
    }
   ],
   "source": [
    "# Plot confusion matrix\n",
    "plot_confusion_matrix(gs, X_test, y_test, display_labels=['arduino', 'rasperry pi'], cmap='Blues');"
   ]
  },
  {
   "cell_type": "markdown",
   "id": "40af2021-d9d5-4326-8320-ce5b0251dfa9",
   "metadata": {},
   "source": [
    "The KNN model is also overfitting on the train data. This model in comparision to the Random Forest model performed significantly worse. The KNN model has about an 83.85% accuracy rate. This model out of all the test data had 276 errors; that's 209 more errors than the Random Forest Model."
   ]
  },
  {
   "cell_type": "markdown",
   "id": "e4e50da4-a75e-4542-b64d-dcc541f3c4dc",
   "metadata": {
    "tags": []
   },
   "source": [
    "# Modeling with TF-IDF Vectorizer"
   ]
  },
  {
   "cell_type": "markdown",
   "id": "729dc162-cf58-4938-94b7-d22d90808714",
   "metadata": {},
   "source": [
    "## Random Forest Modeling"
   ]
  },
  {
   "cell_type": "code",
   "execution_count": 86,
   "id": "556908c3-1b72-45d7-9ee1-f77a5265f9c7",
   "metadata": {},
   "outputs": [
    {
     "name": "stdout",
     "output_type": "stream",
     "text": [
      "Fitting 5 folds for each of 128 candidates, totalling 640 fits\n",
      "0.9526953354042691\n",
      "CPU times: user 6.8 s, sys: 1 s, total: 7.8 s\n",
      "Wall time: 23min 40s\n"
     ]
    },
    {
     "data": {
      "text/plain": [
       "{'rf__max_depth': None,\n",
       " 'rf__max_features': 'sqrt',\n",
       " 'rf__n_estimators': 100,\n",
       " 'tvec__max_df': 0.9,\n",
       " 'tvec__max_features': 3000,\n",
       " 'tvec__min_df': 3,\n",
       " 'tvec__ngram_range': (1, 1)}"
      ]
     },
     "execution_count": 86,
     "metadata": {},
     "output_type": "execute_result"
    }
   ],
   "source": [
    "%%time\n",
    "# Create pipeline\n",
    "rfpipe = Pipeline([\n",
    "    ('tvec', TfidfVectorizer(stop_words='english')),\n",
    "    ('rf', RandomForestClassifier(random_state=42))\n",
    "])\n",
    "\n",
    "# Setup pipe parameters\n",
    "pipe_params = {\n",
    "    'tvec__max_features': [2000, 3000],\n",
    "    'tvec__min_df': [2, 3],\n",
    "    'tvec__max_df': [0.90, 0.95],\n",
    "    'tvec__ngram_range': [(1, 1), (1, 2)],\n",
    "    'rf__n_estimators': [100, 200],\n",
    "    'rf__max_depth': [None, 3],\n",
    "    'rf__max_features': ['sqrt', 0.50]\n",
    "    \n",
    "}\n",
    "\n",
    "# Instantiate GridSearch with pipe and parameters\n",
    "gs = GridSearchCV(rfpipe, pipe_params, cv = 5, n_jobs = -1, verbose = 1)\n",
    "\n",
    "# Fit grid search model with train data\n",
    "gs.fit(X_train, y_train)\n",
    "\n",
    "# Print best score from best model\n",
    "print(gs.best_score_)\n",
    "\n",
    "# Print parameters from best model\n",
    "gs.best_params_"
   ]
  },
  {
   "cell_type": "code",
   "execution_count": 87,
   "id": "fd7e739a-40c4-4827-8366-0e30af5d641f",
   "metadata": {},
   "outputs": [
    {
     "data": {
      "text/plain": [
       "1.0"
      ]
     },
     "execution_count": 87,
     "metadata": {},
     "output_type": "execute_result"
    }
   ],
   "source": [
    "# score train data\n",
    "gs.score(X_train, y_train)"
   ]
  },
  {
   "cell_type": "code",
   "execution_count": 88,
   "id": "e1457b96-2d43-4a4d-a449-5337ed2a4d0a",
   "metadata": {},
   "outputs": [
    {
     "data": {
      "text/plain": [
       "0.96255119953189"
      ]
     },
     "execution_count": 88,
     "metadata": {},
     "output_type": "execute_result"
    }
   ],
   "source": [
    "# score test data\n",
    "gs.score(X_test, y_test)"
   ]
  },
  {
   "cell_type": "code",
   "execution_count": 89,
   "id": "50bc9a63-970f-4afd-abc2-45621f311132",
   "metadata": {},
   "outputs": [
    {
     "data": {
      "image/png": "[encoded data removed]",
      "text/plain": [
       "<Figure size 432x288 with 2 Axes>"
      ]
     },
     "metadata": {
      "needs_background": "light"
     },
     "output_type": "display_data"
    }
   ],
   "source": [
    "# Plot confusion matrix\n",
    "plot_confusion_matrix(gs, X_test, y_test, display_labels=['arduino', 'rasperry pi'], cmap='Blues');"
   ]
  },
  {
   "cell_type": "markdown",
   "id": "116fdf6b-1739-40a4-a42c-d0e87a14dc24",
   "metadata": {},
   "source": [
    "The Random Forest model is also overfitting on the training data. This model performed well, with a 96.26% accuracy rate at prediciting subreddits. This model on the test data had a total of 64 errors."
   ]
  },
  {
   "cell_type": "markdown",
   "id": "86027479-b2df-4e2c-9a53-0720992ab086",
   "metadata": {},
   "source": [
    "## KNN Modeling"
   ]
  },
  {
   "cell_type": "code",
   "execution_count": 90,
   "id": "57837a84-8f9b-4f19-86cd-2bb84f58da16",
   "metadata": {},
   "outputs": [
    {
     "name": "stdout",
     "output_type": "stream",
     "text": [
      "Fitting 5 folds for each of 128 candidates, totalling 640 fits\n",
      "0.8416445226243496\n",
      "CPU times: user 6.9 s, sys: 6.71 s, total: 13.6 s\n",
      "Wall time: 8min 55s\n"
     ]
    },
    {
     "data": {
      "text/plain": [
       "{'knn__n_neighbors': 5,\n",
       " 'knn__p': 2,\n",
       " 'knn__weights': 'distance',\n",
       " 'tvec__max_df': 0.9,\n",
       " 'tvec__max_features': 3000,\n",
       " 'tvec__min_df': 2,\n",
       " 'tvec__ngram_range': (1, 1)}"
      ]
     },
     "execution_count": 90,
     "metadata": {},
     "output_type": "execute_result"
    }
   ],
   "source": [
    "%%time\n",
    "\n",
    "# create pipeline\n",
    "knnpipe = Pipeline([\n",
    "    ('tvec', TfidfVectorizer(stop_words='english')),\n",
    "    ('knn', KNeighborsClassifier())\n",
    "])\n",
    "\n",
    "# setup pipe parameters\n",
    "pipe_params = {\n",
    "    'tvec__max_features': [2000, 3000],\n",
    "    'tvec__min_df': [2, 3],\n",
    "    'tvec__max_df': [0.90, 0.95],\n",
    "    'tvec__ngram_range': [(1, 1), (1, 2)],\n",
    "    'knn__p': [1,2],\n",
    "    'knn__weights': ['uniform', 'distance'],\n",
    "    'knn__n_neighbors': [3, 5]\n",
    "}\n",
    "\n",
    "# Instantiate GridSearch with pipe and parameters\n",
    "gs = GridSearchCV(knnpipe, pipe_params, cv = 5, n_jobs = -1, verbose = 1)\n",
    "\n",
    "# Fit grid search model with train data\n",
    "gs.fit(X_train, y_train)\n",
    "\n",
    "# Print best score from best model\n",
    "print(gs.best_score_)\n",
    "\n",
    "# Print parameters from best model\n",
    "gs.best_params_"
   ]
  },
  {
   "cell_type": "code",
   "execution_count": 91,
   "id": "c80f7067-b8ed-4850-81db-a26868ff36a9",
   "metadata": {},
   "outputs": [
    {
     "data": {
      "text/plain": [
       "1.0"
      ]
     },
     "execution_count": 91,
     "metadata": {},
     "output_type": "execute_result"
    }
   ],
   "source": [
    "# score train data\n",
    "gs.score(X_train, y_train)"
   ]
  },
  {
   "cell_type": "code",
   "execution_count": 92,
   "id": "02f13e5f-3eff-42d9-afc7-69785d50ee8e",
   "metadata": {},
   "outputs": [
    {
     "data": {
      "text/plain": [
       "0.8379169104739613"
      ]
     },
     "execution_count": 92,
     "metadata": {},
     "output_type": "execute_result"
    }
   ],
   "source": [
    "# score test data\n",
    "gs.score(X_test, y_test)"
   ]
  },
  {
   "cell_type": "code",
   "execution_count": 93,
   "id": "cb06a476-022d-4510-8bd9-aa9331f5f0f7",
   "metadata": {},
   "outputs": [
    {
     "data": {
      "image/png": "[encoded data removed]",
      "text/plain": [
       "<Figure size 432x288 with 2 Axes>"
      ]
     },
     "metadata": {
      "needs_background": "light"
     },
     "output_type": "display_data"
    }
   ],
   "source": [
    "# Plot confusion matrix\n",
    "plot_confusion_matrix(gs, X_test, y_test, display_labels=['arduino', 'rasperry pi'], cmap='Blues');"
   ]
  },
  {
   "cell_type": "markdown",
   "id": "f63ce691-33ca-40b6-8776-4729cf295487",
   "metadata": {},
   "source": [
    "The KNN model also overfit on the test data. It's more overfit than the previous KNN model. It scored slightly worse than the previous KNN model with an 83.80% accuracy rate. This model also performed the worse out of all the previous 3 models. This KNN model on the test data had 277 errors."
   ]
  },
  {
   "cell_type": "markdown",
   "id": "181aff66-4472-40eb-94f0-f1eabfae1685",
   "metadata": {},
   "source": [
    "# Recommendations"
   ]
  },
  {
   "cell_type": "markdown",
   "id": "28c59e54-89f4-478f-9191-f5754f994f4f",
   "metadata": {},
   "source": [
    "Overall the two Random Forest models performed the best out of all 4 models. The Random Forest model using the TF-IDF Vectorizer performed slightly better out of the two models. With the goal of accuracy in mind, I recommend using this model as the production model. It had an accuracy of 96.25% and made only 64 errors on the test set.\n",
    "\n",
    "Some potential models to explore for improving the accuracy rating would be to try other ensemble models such as AdaBoost, Gradient Boost, or XGBoost. Testing these three models against our best Random Forest Model could potentially produce better accuracy scores at prediciting subreddits."
   ]
  }
 ],
 "metadata": {
  "kernelspec": {
   "display_name": "Python [conda env:dsi] *",
   "language": "python",
   "name": "conda-env-dsi-py"
  },
  "language_info": {
   "codemirror_mode": {
    "name": "ipython",
    "version": 3
   },
   "file_extension": ".py",
   "mimetype": "text/x-python",
   "name": "python",
   "nbconvert_exporter": "python",
   "pygments_lexer": "ipython3",
   "version": "3.8.8"
  }
 },
 "nbformat": 4,
 "nbformat_minor": 5
}
