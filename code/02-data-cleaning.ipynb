{
 "cells": [
  {
   "cell_type": "markdown",
   "id": "f12f587f-c2b0-44d0-87be-98fd9c03d3a5",
   "metadata": {},
   "source": [
    "<img src=\"http://imgur.com/1ZcRyrc.png\" style=\"float: left; margin: 20px; height: 55px\">\n",
    "\n",
    "# Project 3: Web APIs & NLP\n",
    "\n",
    "---\n",
    "## Problem Statement\n",
    "\n",
    "Maker Faire Conference wants to do a fun interactive app for their attendees at the upcoming conference. For the attendees who are fans of Arduinos and Raspberry Pi they want to build a classification model that will identify which person is a fan of either device based on the text they enter into the app. The goal of the model is to be as accurate as possible. The hope for this project is to delight the attendees and retain attendance for future conferences.\n",
    "\n",
    "---"
   ]
  },
  {
   "cell_type": "markdown",
   "id": "6828a922-26fb-401b-9598-c583f554ad36",
   "metadata": {},
   "source": [
    "# Data Cleaning"
   ]
  },
  {
   "cell_type": "code",
   "execution_count": 24,
   "id": "d5530ab0-2b29-4c79-a2bb-9c809def4cb8",
   "metadata": {},
   "outputs": [],
   "source": [
    "import pandas as pd\n",
    "import numpy as np"
   ]
  },
  {
   "cell_type": "markdown",
   "id": "381d063d-7701-4854-980d-c10dbe90a6a2",
   "metadata": {},
   "source": [
    "## Arduino Data Cleaning"
   ]
  },
  {
   "cell_type": "code",
   "execution_count": 25,
   "id": "3cdf0fd6-7972-4145-88d7-be0cebdfabf2",
   "metadata": {},
   "outputs": [
    {
     "data": {
      "text/html": [
       "<div>\n",
       "<style scoped>\n",
       "    .dataframe tbody tr th:only-of-type {\n",
       "        vertical-align: middle;\n",
       "    }\n",
       "\n",
       "    .dataframe tbody tr th {\n",
       "        vertical-align: top;\n",
       "    }\n",
       "\n",
       "    .dataframe thead th {\n",
       "        text-align: right;\n",
       "    }\n",
       "</style>\n",
       "<table border=\"1\" class=\"dataframe\">\n",
       "  <thead>\n",
       "    <tr style=\"text-align: right;\">\n",
       "      <th></th>\n",
       "      <th>subreddit</th>\n",
       "      <th>title</th>\n",
       "      <th>selftext</th>\n",
       "    </tr>\n",
       "  </thead>\n",
       "  <tbody>\n",
       "    <tr>\n",
       "      <th>0</th>\n",
       "      <td>arduino</td>\n",
       "      <td>Can I use a usb bluetooth adapter on a Leonardo?</td>\n",
       "      <td>I have a little Beetle board that is a Leonard...</td>\n",
       "    </tr>\n",
       "    <tr>\n",
       "      <th>1</th>\n",
       "      <td>arduino</td>\n",
       "      <td>New to the Arduino universe and need suggestio...</td>\n",
       "      <td>[removed]</td>\n",
       "    </tr>\n",
       "    <tr>\n",
       "      <th>2</th>\n",
       "      <td>arduino</td>\n",
       "      <td>long shot but does anyone have a 3d model of t...</td>\n",
       "      <td>I want to build a 3d enclosure for this board ...</td>\n",
       "    </tr>\n",
       "    <tr>\n",
       "      <th>3</th>\n",
       "      <td>arduino</td>\n",
       "      <td>Need help understanding some variables and fun...</td>\n",
       "      <td>I need to understand the code from [this](http...</td>\n",
       "    </tr>\n",
       "    <tr>\n",
       "      <th>4</th>\n",
       "      <td>arduino</td>\n",
       "      <td>I made an Arduino Uno compatible controller bo...</td>\n",
       "      <td>NaN</td>\n",
       "    </tr>\n",
       "  </tbody>\n",
       "</table>\n",
       "</div>"
      ],
      "text/plain": [
       "  subreddit                                              title  \\\n",
       "0   arduino   Can I use a usb bluetooth adapter on a Leonardo?   \n",
       "1   arduino  New to the Arduino universe and need suggestio...   \n",
       "2   arduino  long shot but does anyone have a 3d model of t...   \n",
       "3   arduino  Need help understanding some variables and fun...   \n",
       "4   arduino  I made an Arduino Uno compatible controller bo...   \n",
       "\n",
       "                                            selftext  \n",
       "0  I have a little Beetle board that is a Leonard...  \n",
       "1                                          [removed]  \n",
       "2  I want to build a 3d enclosure for this board ...  \n",
       "3  I need to understand the code from [this](http...  \n",
       "4                                                NaN  "
      ]
     },
     "execution_count": 25,
     "metadata": {},
     "output_type": "execute_result"
    }
   ],
   "source": [
    "# read arduino data\n",
    "arduino = pd.read_csv('../data/arduino.csv')\n",
    "arduino.head()"
   ]
  },
  {
   "cell_type": "code",
   "execution_count": 26,
   "id": "32030ff0-daa7-4fc2-acf2-698d2a07fb85",
   "metadata": {},
   "outputs": [
    {
     "name": "stdout",
     "output_type": "stream",
     "text": [
      "<class 'pandas.core.frame.DataFrame'>\n",
      "RangeIndex: 4000 entries, 0 to 3999\n",
      "Data columns (total 3 columns):\n",
      " #   Column     Non-Null Count  Dtype \n",
      "---  ------     --------------  ----- \n",
      " 0   subreddit  4000 non-null   object\n",
      " 1   title      4000 non-null   object\n",
      " 2   selftext   2562 non-null   object\n",
      "dtypes: object(3)\n",
      "memory usage: 93.9+ KB\n"
     ]
    }
   ],
   "source": [
    "# Check dtypes and null values\n",
    "arduino.info()"
   ]
  },
  {
   "cell_type": "code",
   "execution_count": 27,
   "id": "af0c5eb2-441a-43c2-b3e5-0be7f73cd23d",
   "metadata": {},
   "outputs": [
    {
     "data": {
      "text/html": [
       "<div>\n",
       "<style scoped>\n",
       "    .dataframe tbody tr th:only-of-type {\n",
       "        vertical-align: middle;\n",
       "    }\n",
       "\n",
       "    .dataframe tbody tr th {\n",
       "        vertical-align: top;\n",
       "    }\n",
       "\n",
       "    .dataframe thead th {\n",
       "        text-align: right;\n",
       "    }\n",
       "</style>\n",
       "<table border=\"1\" class=\"dataframe\">\n",
       "  <thead>\n",
       "    <tr style=\"text-align: right;\">\n",
       "      <th></th>\n",
       "      <th>subreddit</th>\n",
       "      <th>title</th>\n",
       "      <th>selftext</th>\n",
       "    </tr>\n",
       "  </thead>\n",
       "  <tbody>\n",
       "    <tr>\n",
       "      <th>1</th>\n",
       "      <td>arduino</td>\n",
       "      <td>New to the Arduino universe and need suggestio...</td>\n",
       "      <td>[removed]</td>\n",
       "    </tr>\n",
       "    <tr>\n",
       "      <th>15</th>\n",
       "      <td>arduino</td>\n",
       "      <td>Grove Help :)</td>\n",
       "      <td>[removed]</td>\n",
       "    </tr>\n",
       "    <tr>\n",
       "      <th>16</th>\n",
       "      <td>arduino</td>\n",
       "      <td>Arduino UNO missing IDE port</td>\n",
       "      <td>[removed]</td>\n",
       "    </tr>\n",
       "    <tr>\n",
       "      <th>20</th>\n",
       "      <td>arduino</td>\n",
       "      <td>How do you convert 24v ac to 5v dc to power ar...</td>\n",
       "      <td>[removed]</td>\n",
       "    </tr>\n",
       "    <tr>\n",
       "      <th>24</th>\n",
       "      <td>arduino</td>\n",
       "      <td>BRG LED Strip Help.</td>\n",
       "      <td>[removed]</td>\n",
       "    </tr>\n",
       "    <tr>\n",
       "      <th>...</th>\n",
       "      <td>...</td>\n",
       "      <td>...</td>\n",
       "      <td>...</td>\n",
       "    </tr>\n",
       "    <tr>\n",
       "      <th>3697</th>\n",
       "      <td>arduino</td>\n",
       "      <td>Raspberry Pi for Beginners (Mac + PC)</td>\n",
       "      <td>[removed]</td>\n",
       "    </tr>\n",
       "    <tr>\n",
       "      <th>3802</th>\n",
       "      <td>arduino</td>\n",
       "      <td>Teaching not to doubt about requests to God:</td>\n",
       "      <td>[removed]</td>\n",
       "    </tr>\n",
       "    <tr>\n",
       "      <th>3826</th>\n",
       "      <td>arduino</td>\n",
       "      <td>Technology Promotes Equality...</td>\n",
       "      <td>[removed]</td>\n",
       "    </tr>\n",
       "    <tr>\n",
       "      <th>3938</th>\n",
       "      <td>arduino</td>\n",
       "      <td>I'm working on Iot based smart inverter on Pro...</td>\n",
       "      <td>[removed]</td>\n",
       "    </tr>\n",
       "    <tr>\n",
       "      <th>3967</th>\n",
       "      <td>arduino</td>\n",
       "      <td>Where did everyone get info/tutorials on how t...</td>\n",
       "      <td>[removed]</td>\n",
       "    </tr>\n",
       "  </tbody>\n",
       "</table>\n",
       "<p>75 rows × 3 columns</p>\n",
       "</div>"
      ],
      "text/plain": [
       "     subreddit                                              title   selftext\n",
       "1      arduino  New to the Arduino universe and need suggestio...  [removed]\n",
       "15     arduino                                      Grove Help :)  [removed]\n",
       "16     arduino                       Arduino UNO missing IDE port  [removed]\n",
       "20     arduino  How do you convert 24v ac to 5v dc to power ar...  [removed]\n",
       "24     arduino                                BRG LED Strip Help.  [removed]\n",
       "...        ...                                                ...        ...\n",
       "3697   arduino              Raspberry Pi for Beginners (Mac + PC)  [removed]\n",
       "3802   arduino       Teaching not to doubt about requests to God:  [removed]\n",
       "3826   arduino                    Technology Promotes Equality...  [removed]\n",
       "3938   arduino  I'm working on Iot based smart inverter on Pro...  [removed]\n",
       "3967   arduino  Where did everyone get info/tutorials on how t...  [removed]\n",
       "\n",
       "[75 rows x 3 columns]"
      ]
     },
     "execution_count": 27,
     "metadata": {},
     "output_type": "execute_result"
    }
   ],
   "source": [
    "# Check to see how many \"removed\" rows exist\n",
    "arduino[arduino['selftext'] == '[removed]']"
   ]
  },
  {
   "cell_type": "code",
   "execution_count": 28,
   "id": "1aa46ff6-1bd9-4de9-87da-03c9135fe5fb",
   "metadata": {},
   "outputs": [],
   "source": [
    "# Drop all rows with no selftext\n",
    "arduino.dropna(inplace=True)"
   ]
  },
  {
   "cell_type": "code",
   "execution_count": 29,
   "id": "ca0e763d-eeba-4a23-8a13-5c04f0f630d2",
   "metadata": {},
   "outputs": [],
   "source": [
    "# Drop all rows with 'removed' in self text\n",
    "arduino = arduino[arduino['selftext'] != '[removed]']"
   ]
  },
  {
   "cell_type": "code",
   "execution_count": 30,
   "id": "b4724182-a2e3-43c5-b1d6-087a38011ccd",
   "metadata": {},
   "outputs": [
    {
     "data": {
      "text/plain": [
       "(2487, 3)"
      ]
     },
     "execution_count": 30,
     "metadata": {},
     "output_type": "execute_result"
    }
   ],
   "source": [
    "# Check remaining rows\n",
    "arduino.shape"
   ]
  },
  {
   "cell_type": "markdown",
   "id": "ff3cbdb3-96a8-4b1d-b7fb-89b7fac2c28f",
   "metadata": {},
   "source": [
    "## Raspberry Pi Data Cleaning"
   ]
  },
  {
   "cell_type": "code",
   "execution_count": 31,
   "id": "0b19f01b-2052-4b1f-9079-f4d0a315a599",
   "metadata": {},
   "outputs": [
    {
     "data": {
      "text/html": [
       "<div>\n",
       "<style scoped>\n",
       "    .dataframe tbody tr th:only-of-type {\n",
       "        vertical-align: middle;\n",
       "    }\n",
       "\n",
       "    .dataframe tbody tr th {\n",
       "        vertical-align: top;\n",
       "    }\n",
       "\n",
       "    .dataframe thead th {\n",
       "        text-align: right;\n",
       "    }\n",
       "</style>\n",
       "<table border=\"1\" class=\"dataframe\">\n",
       "  <thead>\n",
       "    <tr style=\"text-align: right;\">\n",
       "      <th></th>\n",
       "      <th>subreddit</th>\n",
       "      <th>title</th>\n",
       "      <th>selftext</th>\n",
       "    </tr>\n",
       "  </thead>\n",
       "  <tbody>\n",
       "    <tr>\n",
       "      <th>0</th>\n",
       "      <td>raspberry_pi</td>\n",
       "      <td>RP4 w/ Raspbian opens video but no picture</td>\n",
       "      <td>I have a RP4 with a 1080x1920 (portriate)  h.2...</td>\n",
       "    </tr>\n",
       "    <tr>\n",
       "      <th>1</th>\n",
       "      <td>raspberry_pi</td>\n",
       "      <td>DeskPi Pro V2 Case for Raspberry Pi 4 Setup: M...</td>\n",
       "      <td>NaN</td>\n",
       "    </tr>\n",
       "    <tr>\n",
       "      <th>2</th>\n",
       "      <td>raspberry_pi</td>\n",
       "      <td>Plex Server and DVD Ripper</td>\n",
       "      <td>My in-laws have a ton of movies. I suggested p...</td>\n",
       "    </tr>\n",
       "    <tr>\n",
       "      <th>3</th>\n",
       "      <td>raspberry_pi</td>\n",
       "      <td>A Windows 10 VM(s) on a Pi 4 Cluster?</td>\n",
       "      <td>[removed]</td>\n",
       "    </tr>\n",
       "    <tr>\n",
       "      <th>4</th>\n",
       "      <td>raspberry_pi</td>\n",
       "      <td>Another Crypto Ticker</td>\n",
       "      <td>[removed]</td>\n",
       "    </tr>\n",
       "  </tbody>\n",
       "</table>\n",
       "</div>"
      ],
      "text/plain": [
       "      subreddit                                              title  \\\n",
       "0  raspberry_pi         RP4 w/ Raspbian opens video but no picture   \n",
       "1  raspberry_pi  DeskPi Pro V2 Case for Raspberry Pi 4 Setup: M...   \n",
       "2  raspberry_pi                         Plex Server and DVD Ripper   \n",
       "3  raspberry_pi              A Windows 10 VM(s) on a Pi 4 Cluster?   \n",
       "4  raspberry_pi                              Another Crypto Ticker   \n",
       "\n",
       "                                            selftext  \n",
       "0  I have a RP4 with a 1080x1920 (portriate)  h.2...  \n",
       "1                                                NaN  \n",
       "2  My in-laws have a ton of movies. I suggested p...  \n",
       "3                                          [removed]  \n",
       "4                                          [removed]  "
      ]
     },
     "execution_count": 31,
     "metadata": {},
     "output_type": "execute_result"
    }
   ],
   "source": [
    "# read raspberrypi data\n",
    "raspberrypi = pd.read_csv('../data/raspberrypi.csv')\n",
    "raspberrypi.head()"
   ]
  },
  {
   "cell_type": "code",
   "execution_count": 32,
   "id": "d1ab9006-796b-4d43-8b94-fd1401315ccb",
   "metadata": {},
   "outputs": [
    {
     "name": "stdout",
     "output_type": "stream",
     "text": [
      "<class 'pandas.core.frame.DataFrame'>\n",
      "RangeIndex: 20000 entries, 0 to 19999\n",
      "Data columns (total 3 columns):\n",
      " #   Column     Non-Null Count  Dtype \n",
      "---  ------     --------------  ----- \n",
      " 0   subreddit  20000 non-null  object\n",
      " 1   title      20000 non-null  object\n",
      " 2   selftext   14581 non-null  object\n",
      "dtypes: object(3)\n",
      "memory usage: 468.9+ KB\n"
     ]
    }
   ],
   "source": [
    "# check dtypes and null values\n",
    "raspberrypi.info()"
   ]
  },
  {
   "cell_type": "code",
   "execution_count": 33,
   "id": "a12a3926-1bfe-49aa-beac-61a026c049fd",
   "metadata": {},
   "outputs": [
    {
     "data": {
      "text/html": [
       "<div>\n",
       "<style scoped>\n",
       "    .dataframe tbody tr th:only-of-type {\n",
       "        vertical-align: middle;\n",
       "    }\n",
       "\n",
       "    .dataframe tbody tr th {\n",
       "        vertical-align: top;\n",
       "    }\n",
       "\n",
       "    .dataframe thead th {\n",
       "        text-align: right;\n",
       "    }\n",
       "</style>\n",
       "<table border=\"1\" class=\"dataframe\">\n",
       "  <thead>\n",
       "    <tr style=\"text-align: right;\">\n",
       "      <th></th>\n",
       "      <th>subreddit</th>\n",
       "      <th>title</th>\n",
       "      <th>selftext</th>\n",
       "    </tr>\n",
       "  </thead>\n",
       "  <tbody>\n",
       "    <tr>\n",
       "      <th>3</th>\n",
       "      <td>raspberry_pi</td>\n",
       "      <td>A Windows 10 VM(s) on a Pi 4 Cluster?</td>\n",
       "      <td>[removed]</td>\n",
       "    </tr>\n",
       "    <tr>\n",
       "      <th>4</th>\n",
       "      <td>raspberry_pi</td>\n",
       "      <td>Another Crypto Ticker</td>\n",
       "      <td>[removed]</td>\n",
       "    </tr>\n",
       "    <tr>\n",
       "      <th>5</th>\n",
       "      <td>raspberry_pi</td>\n",
       "      <td>Raspberry Pi Replacement for Fingbox?</td>\n",
       "      <td>[removed]</td>\n",
       "    </tr>\n",
       "    <tr>\n",
       "      <th>7</th>\n",
       "      <td>raspberry_pi</td>\n",
       "      <td>Won’t boot after shutdown</td>\n",
       "      <td>[removed]</td>\n",
       "    </tr>\n",
       "    <tr>\n",
       "      <th>8</th>\n",
       "      <td>raspberry_pi</td>\n",
       "      <td>What power supply for two RPi3 ?</td>\n",
       "      <td>[removed]</td>\n",
       "    </tr>\n",
       "    <tr>\n",
       "      <th>...</th>\n",
       "      <td>...</td>\n",
       "      <td>...</td>\n",
       "      <td>...</td>\n",
       "    </tr>\n",
       "    <tr>\n",
       "      <th>19991</th>\n",
       "      <td>raspberry_pi</td>\n",
       "      <td>Only orange light no green light @ ethernet port</td>\n",
       "      <td>[removed]</td>\n",
       "    </tr>\n",
       "    <tr>\n",
       "      <th>19992</th>\n",
       "      <td>raspberry_pi</td>\n",
       "      <td>Troubleshooting with Argon One Case (MicroSD n...</td>\n",
       "      <td>[removed]</td>\n",
       "    </tr>\n",
       "    <tr>\n",
       "      <th>19995</th>\n",
       "      <td>raspberry_pi</td>\n",
       "      <td>New 8Gb RAM Rpi 4</td>\n",
       "      <td>[removed]</td>\n",
       "    </tr>\n",
       "    <tr>\n",
       "      <th>19997</th>\n",
       "      <td>raspberry_pi</td>\n",
       "      <td>[Help Needed] RasberryPi4 with retropie does n...</td>\n",
       "      <td>[removed]</td>\n",
       "    </tr>\n",
       "    <tr>\n",
       "      <th>19998</th>\n",
       "      <td>raspberry_pi</td>\n",
       "      <td>Creating an Airgapped Raspberry Pi</td>\n",
       "      <td>[removed]</td>\n",
       "    </tr>\n",
       "  </tbody>\n",
       "</table>\n",
       "<p>11892 rows × 3 columns</p>\n",
       "</div>"
      ],
      "text/plain": [
       "          subreddit                                              title  \\\n",
       "3      raspberry_pi              A Windows 10 VM(s) on a Pi 4 Cluster?   \n",
       "4      raspberry_pi                              Another Crypto Ticker   \n",
       "5      raspberry_pi              Raspberry Pi Replacement for Fingbox?   \n",
       "7      raspberry_pi                          Won’t boot after shutdown   \n",
       "8      raspberry_pi                   What power supply for two RPi3 ?   \n",
       "...             ...                                                ...   \n",
       "19991  raspberry_pi   Only orange light no green light @ ethernet port   \n",
       "19992  raspberry_pi  Troubleshooting with Argon One Case (MicroSD n...   \n",
       "19995  raspberry_pi                                  New 8Gb RAM Rpi 4   \n",
       "19997  raspberry_pi  [Help Needed] RasberryPi4 with retropie does n...   \n",
       "19998  raspberry_pi                 Creating an Airgapped Raspberry Pi   \n",
       "\n",
       "        selftext  \n",
       "3      [removed]  \n",
       "4      [removed]  \n",
       "5      [removed]  \n",
       "7      [removed]  \n",
       "8      [removed]  \n",
       "...          ...  \n",
       "19991  [removed]  \n",
       "19992  [removed]  \n",
       "19995  [removed]  \n",
       "19997  [removed]  \n",
       "19998  [removed]  \n",
       "\n",
       "[11892 rows x 3 columns]"
      ]
     },
     "execution_count": 33,
     "metadata": {},
     "output_type": "execute_result"
    }
   ],
   "source": [
    "# Check to see how many \"removed\" rows exist\n",
    "raspberrypi[raspberrypi['selftext'] == '[removed]']"
   ]
  },
  {
   "cell_type": "code",
   "execution_count": 34,
   "id": "59a651f1-9915-4a99-8d80-2f805407549b",
   "metadata": {},
   "outputs": [],
   "source": [
    "# Drop all rows with no selftext\n",
    "raspberrypi.dropna(inplace=True)"
   ]
  },
  {
   "cell_type": "code",
   "execution_count": 35,
   "id": "7b68a9d9-04f5-412d-b97f-d8d0b7bc2392",
   "metadata": {},
   "outputs": [],
   "source": [
    "# Drop all rows with 'removed' in self text\n",
    "raspberrypi = raspberrypi[raspberrypi['selftext'] != '[removed]']"
   ]
  },
  {
   "cell_type": "code",
   "execution_count": 36,
   "id": "bbb0e5dd-1729-4df9-8b24-ae78837ce5d1",
   "metadata": {},
   "outputs": [
    {
     "data": {
      "text/plain": [
       "(2689, 3)"
      ]
     },
     "execution_count": 36,
     "metadata": {},
     "output_type": "execute_result"
    }
   ],
   "source": [
    "# Check remaining rows\n",
    "raspberrypi.shape"
   ]
  },
  {
   "cell_type": "markdown",
   "id": "8e4e06cf-698e-415b-abda-30ede83a42ca",
   "metadata": {},
   "source": [
    "## Final Subreddit DataFrame"
   ]
  },
  {
   "cell_type": "code",
   "execution_count": 38,
   "id": "9af44dac-c62e-475e-8090-14989c66d378",
   "metadata": {},
   "outputs": [
    {
     "data": {
      "text/html": [
       "<div>\n",
       "<style scoped>\n",
       "    .dataframe tbody tr th:only-of-type {\n",
       "        vertical-align: middle;\n",
       "    }\n",
       "\n",
       "    .dataframe tbody tr th {\n",
       "        vertical-align: top;\n",
       "    }\n",
       "\n",
       "    .dataframe thead th {\n",
       "        text-align: right;\n",
       "    }\n",
       "</style>\n",
       "<table border=\"1\" class=\"dataframe\">\n",
       "  <thead>\n",
       "    <tr style=\"text-align: right;\">\n",
       "      <th></th>\n",
       "      <th>subreddit</th>\n",
       "      <th>title</th>\n",
       "      <th>selftext</th>\n",
       "    </tr>\n",
       "  </thead>\n",
       "  <tbody>\n",
       "    <tr>\n",
       "      <th>0</th>\n",
       "      <td>arduino</td>\n",
       "      <td>Can I use a usb bluetooth adapter on a Leonardo?</td>\n",
       "      <td>I have a little Beetle board that is a Leonard...</td>\n",
       "    </tr>\n",
       "    <tr>\n",
       "      <th>2</th>\n",
       "      <td>arduino</td>\n",
       "      <td>long shot but does anyone have a 3d model of t...</td>\n",
       "      <td>I want to build a 3d enclosure for this board ...</td>\n",
       "    </tr>\n",
       "    <tr>\n",
       "      <th>3</th>\n",
       "      <td>arduino</td>\n",
       "      <td>Need help understanding some variables and fun...</td>\n",
       "      <td>I need to understand the code from [this](http...</td>\n",
       "    </tr>\n",
       "    <tr>\n",
       "      <th>6</th>\n",
       "      <td>arduino</td>\n",
       "      <td>A picture book teaches C programming basics</td>\n",
       "      <td>When I was learning C programming, I found tha...</td>\n",
       "    </tr>\n",
       "    <tr>\n",
       "      <th>7</th>\n",
       "      <td>arduino</td>\n",
       "      <td>How to trick an airbag controller</td>\n",
       "      <td>Not exactly Arduino related, but hopefully som...</td>\n",
       "    </tr>\n",
       "  </tbody>\n",
       "</table>\n",
       "</div>"
      ],
      "text/plain": [
       "  subreddit                                              title  \\\n",
       "0   arduino   Can I use a usb bluetooth adapter on a Leonardo?   \n",
       "2   arduino  long shot but does anyone have a 3d model of t...   \n",
       "3   arduino  Need help understanding some variables and fun...   \n",
       "6   arduino        A picture book teaches C programming basics   \n",
       "7   arduino                  How to trick an airbag controller   \n",
       "\n",
       "                                            selftext  \n",
       "0  I have a little Beetle board that is a Leonard...  \n",
       "2  I want to build a 3d enclosure for this board ...  \n",
       "3  I need to understand the code from [this](http...  \n",
       "6  When I was learning C programming, I found tha...  \n",
       "7  Not exactly Arduino related, but hopefully som...  "
      ]
     },
     "execution_count": 38,
     "metadata": {},
     "output_type": "execute_result"
    }
   ],
   "source": [
    "# Combine cleaned subreddit dataframes into one\n",
    "subreddits = pd.concat([arduino, raspberrypi], axis=0)\n",
    "subreddits.head()"
   ]
  },
  {
   "cell_type": "code",
   "execution_count": 39,
   "id": "49f10f80-5aed-4cc5-a887-a2c13daa818c",
   "metadata": {},
   "outputs": [
    {
     "data": {
      "text/plain": [
       "(5176, 3)"
      ]
     },
     "execution_count": 39,
     "metadata": {},
     "output_type": "execute_result"
    }
   ],
   "source": [
    "# check final shape of full corpus\n",
    "subreddits.shape"
   ]
  },
  {
   "cell_type": "code",
   "execution_count": 40,
   "id": "3d84a356-1115-458b-97ec-e7b1d93c4228",
   "metadata": {},
   "outputs": [],
   "source": [
    "# export dataframe to csv\n",
    "subreddits.to_csv('../data/subreddits.csv', index=False)"
   ]
  }
 ],
 "metadata": {
  "kernelspec": {
   "display_name": "Python [conda env:dsi] *",
   "language": "python",
   "name": "conda-env-dsi-py"
  },
  "language_info": {
   "codemirror_mode": {
    "name": "ipython",
    "version": 3
   },
   "file_extension": ".py",
   "mimetype": "text/x-python",
   "name": "python",
   "nbconvert_exporter": "python",
   "pygments_lexer": "ipython3",
   "version": "3.8.11"
  }
 },
 "nbformat": 4,
 "nbformat_minor": 5
}
