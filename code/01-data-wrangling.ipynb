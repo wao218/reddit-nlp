{
 "cells": [
  {
   "cell_type": "markdown",
   "id": "4b8ddd1f-e70b-43cf-9ab3-a2c7bef07d20",
   "metadata": {},
   "source": [
    "<img src=\"http://imgur.com/1ZcRyrc.png\" style=\"float: left; margin: 20px; height: 55px\">\n",
    "\n",
    "# Project 3: Web APIs & NLP\n",
    "\n",
    "---\n",
    "## Problem Statement\n",
    "\n",
    "Maker Faire Conference wants to do a fun interactive app for their attendees at the upcoming conference. For the attendees who are fans of Arduinos and Raspberry Pi they want to build a classification model that will identify which person is a fan of either device based on the text they enter into the app. The goal of the model is to be as accurate as possible. The hope for this project is to delight the attendees and retain attendance for future conferences.\n",
    "\n",
    "---"
   ]
  },
  {
   "cell_type": "markdown",
   "id": "80993a38-a438-4680-9619-ea22664babee",
   "metadata": {},
   "source": [
    "# Data Wrangling"
   ]
  },
  {
   "cell_type": "code",
   "execution_count": 3,
   "id": "65ffef60-2b1a-46d9-b8bc-0421e0d85da5",
   "metadata": {},
   "outputs": [],
   "source": [
    "# Imports\n",
    "import requests\n",
    "import pandas as pd\n",
    "import time"
   ]
  },
  {
   "cell_type": "code",
   "execution_count": 1,
   "id": "af7a312f-f4dc-4fea-b4da-e3378a631e3f",
   "metadata": {},
   "outputs": [],
   "source": [
    "def get_data(subreddit, iters):\n",
    "    '''\n",
    "    Collect the subreddit, title, and selftext of posts from\n",
    "    reddit api. Return a pandas dataframe of the subreddit data.\n",
    "    \n",
    "    Params:\n",
    "    \n",
    "    subreddit - name of the subreddit to search\n",
    "    \n",
    "    iters - number of iterations to run to pull data\n",
    "    '''\n",
    "    posts = []\n",
    "    oldest_post = 0\n",
    "\n",
    "    url = 'https://api.pushshift.io/reddit/search/submission'\n",
    "    params = {\n",
    "        'subreddit': subreddit,\n",
    "        'size': 100,\n",
    "    }\n",
    "    res = requests.get(url, params)\n",
    "    if res.status_code == 200:\n",
    "        posts = res.json()['data']\n",
    "        oldest_post = res.json()['data'][-1]['created_utc']\n",
    "    else:\n",
    "        return f'Server error: {res.status_code}'\n",
    "    \n",
    "    for _ in range(0, iters):\n",
    "        params = {\n",
    "            'subreddit': subreddit,\n",
    "            'size': 100,\n",
    "            'before': oldest_post\n",
    "        }\n",
    "        res = requests.get(url, params)\n",
    "        if res.status_code == 200:\n",
    "            posts += res.json()['data']\n",
    "            oldest_post = res.json()['data'][-1]['created_utc']\n",
    "        else:\n",
    "            return f'Server error: {res.status_code}'\n",
    "        time.sleep(10)\n",
    "    return pd.DataFrame(posts)[['subreddit', 'title', 'selftext']]"
   ]
  },
  {
   "cell_type": "code",
   "execution_count": 75,
   "id": "2b107ac1-1057-48d8-9133-eca6dab70f81",
   "metadata": {},
   "outputs": [],
   "source": [
    "# get arduino data\n",
    "# 40 total runs to pull 4000 rows of data\n",
    "arduino = get_data('arduino', 39)"
   ]
  },
  {
   "cell_type": "code",
   "execution_count": 76,
   "id": "e7ba980b-4c4a-406f-8c2f-8893374d240c",
   "metadata": {},
   "outputs": [
    {
     "data": {
      "text/html": [
       "<div>\n",
       "<style scoped>\n",
       "    .dataframe tbody tr th:only-of-type {\n",
       "        vertical-align: middle;\n",
       "    }\n",
       "\n",
       "    .dataframe tbody tr th {\n",
       "        vertical-align: top;\n",
       "    }\n",
       "\n",
       "    .dataframe thead th {\n",
       "        text-align: right;\n",
       "    }\n",
       "</style>\n",
       "<table border=\"1\" class=\"dataframe\">\n",
       "  <thead>\n",
       "    <tr style=\"text-align: right;\">\n",
       "      <th></th>\n",
       "      <th>subreddit</th>\n",
       "      <th>title</th>\n",
       "      <th>selftext</th>\n",
       "    </tr>\n",
       "  </thead>\n",
       "  <tbody>\n",
       "    <tr>\n",
       "      <th>0</th>\n",
       "      <td>arduino</td>\n",
       "      <td>Can I use a usb bluetooth adapter on a Leonardo?</td>\n",
       "      <td>I have a little Beetle board that is a Leonard...</td>\n",
       "    </tr>\n",
       "    <tr>\n",
       "      <th>1</th>\n",
       "      <td>arduino</td>\n",
       "      <td>New to the Arduino universe and need suggestio...</td>\n",
       "      <td>[removed]</td>\n",
       "    </tr>\n",
       "    <tr>\n",
       "      <th>2</th>\n",
       "      <td>arduino</td>\n",
       "      <td>long shot but does anyone have a 3d model of t...</td>\n",
       "      <td>I want to build a 3d enclosure for this board ...</td>\n",
       "    </tr>\n",
       "    <tr>\n",
       "      <th>3</th>\n",
       "      <td>arduino</td>\n",
       "      <td>Need help understanding some variables and fun...</td>\n",
       "      <td>I need to understand the code from [this](http...</td>\n",
       "    </tr>\n",
       "    <tr>\n",
       "      <th>4</th>\n",
       "      <td>arduino</td>\n",
       "      <td>I made an Arduino Uno compatible controller bo...</td>\n",
       "      <td></td>\n",
       "    </tr>\n",
       "  </tbody>\n",
       "</table>\n",
       "</div>"
      ],
      "text/plain": [
       "  subreddit                                              title  \\\n",
       "0   arduino   Can I use a usb bluetooth adapter on a Leonardo?   \n",
       "1   arduino  New to the Arduino universe and need suggestio...   \n",
       "2   arduino  long shot but does anyone have a 3d model of t...   \n",
       "3   arduino  Need help understanding some variables and fun...   \n",
       "4   arduino  I made an Arduino Uno compatible controller bo...   \n",
       "\n",
       "                                            selftext  \n",
       "0  I have a little Beetle board that is a Leonard...  \n",
       "1                                          [removed]  \n",
       "2  I want to build a 3d enclosure for this board ...  \n",
       "3  I need to understand the code from [this](http...  \n",
       "4                                                     "
      ]
     },
     "execution_count": 76,
     "metadata": {},
     "output_type": "execute_result"
    }
   ],
   "source": [
    "# check head of arduino dataframe\n",
    "arduino.head()"
   ]
  },
  {
   "cell_type": "code",
   "execution_count": 77,
   "id": "f3c1309f-ee32-421a-b849-b3a71be9d3a3",
   "metadata": {},
   "outputs": [
    {
     "data": {
      "text/plain": [
       "(4000, 3)"
      ]
     },
     "execution_count": 77,
     "metadata": {},
     "output_type": "execute_result"
    }
   ],
   "source": [
    "# check number of rows of data\n",
    "arduino.shape"
   ]
  },
  {
   "cell_type": "code",
   "execution_count": 78,
   "id": "947b9465-ff5c-4e68-9b55-d167b44977bb",
   "metadata": {},
   "outputs": [
    {
     "name": "stdout",
     "output_type": "stream",
     "text": [
      "<class 'pandas.core.frame.DataFrame'>\n",
      "RangeIndex: 4000 entries, 0 to 3999\n",
      "Data columns (total 3 columns):\n",
      " #   Column     Non-Null Count  Dtype \n",
      "---  ------     --------------  ----- \n",
      " 0   subreddit  4000 non-null   object\n",
      " 1   title      4000 non-null   object\n",
      " 2   selftext   4000 non-null   object\n",
      "dtypes: object(3)\n",
      "memory usage: 93.9+ KB\n"
     ]
    }
   ],
   "source": [
    "# check nulls in dataset\n",
    "arduino.info()"
   ]
  },
  {
   "cell_type": "code",
   "execution_count": 83,
   "id": "5f1874ff-af6c-4bad-b9e2-60384c62c1cd",
   "metadata": {},
   "outputs": [],
   "source": [
    "# export dataframe to csv\n",
    "arduino.to_csv('data/arduino.csv', index = False)"
   ]
  },
  {
   "cell_type": "code",
   "execution_count": 4,
   "id": "c214ae01-ca8c-46a0-bc4e-ea84f80498f4",
   "metadata": {},
   "outputs": [],
   "source": [
    "# get raspberry pi data\n",
    "# 200 total runs to pull 20000 rows of data\n",
    "raspberrypi = get_data('raspberry_pi')"
   ]
  },
  {
   "cell_type": "code",
   "execution_count": 5,
   "id": "9aa025e8-d0c9-4947-a3da-c5dc46b5278f",
   "metadata": {},
   "outputs": [
    {
     "data": {
      "text/html": [
       "<div>\n",
       "<style scoped>\n",
       "    .dataframe tbody tr th:only-of-type {\n",
       "        vertical-align: middle;\n",
       "    }\n",
       "\n",
       "    .dataframe tbody tr th {\n",
       "        vertical-align: top;\n",
       "    }\n",
       "\n",
       "    .dataframe thead th {\n",
       "        text-align: right;\n",
       "    }\n",
       "</style>\n",
       "<table border=\"1\" class=\"dataframe\">\n",
       "  <thead>\n",
       "    <tr style=\"text-align: right;\">\n",
       "      <th></th>\n",
       "      <th>subreddit</th>\n",
       "      <th>title</th>\n",
       "      <th>selftext</th>\n",
       "    </tr>\n",
       "  </thead>\n",
       "  <tbody>\n",
       "    <tr>\n",
       "      <th>0</th>\n",
       "      <td>raspberry_pi</td>\n",
       "      <td>RP4 w/ Raspbian opens video but no picture</td>\n",
       "      <td>I have a RP4 with a 1080x1920 (portriate)  h.2...</td>\n",
       "    </tr>\n",
       "    <tr>\n",
       "      <th>1</th>\n",
       "      <td>raspberry_pi</td>\n",
       "      <td>DeskPi Pro V2 Case for Raspberry Pi 4 Setup: M...</td>\n",
       "      <td></td>\n",
       "    </tr>\n",
       "    <tr>\n",
       "      <th>2</th>\n",
       "      <td>raspberry_pi</td>\n",
       "      <td>Plex Server and DVD Ripper</td>\n",
       "      <td>My in-laws have a ton of movies. I suggested p...</td>\n",
       "    </tr>\n",
       "    <tr>\n",
       "      <th>3</th>\n",
       "      <td>raspberry_pi</td>\n",
       "      <td>A Windows 10 VM(s) on a Pi 4 Cluster?</td>\n",
       "      <td>[removed]</td>\n",
       "    </tr>\n",
       "    <tr>\n",
       "      <th>4</th>\n",
       "      <td>raspberry_pi</td>\n",
       "      <td>Another Crypto Ticker</td>\n",
       "      <td>[removed]</td>\n",
       "    </tr>\n",
       "  </tbody>\n",
       "</table>\n",
       "</div>"
      ],
      "text/plain": [
       "      subreddit                                              title  \\\n",
       "0  raspberry_pi         RP4 w/ Raspbian opens video but no picture   \n",
       "1  raspberry_pi  DeskPi Pro V2 Case for Raspberry Pi 4 Setup: M...   \n",
       "2  raspberry_pi                         Plex Server and DVD Ripper   \n",
       "3  raspberry_pi              A Windows 10 VM(s) on a Pi 4 Cluster?   \n",
       "4  raspberry_pi                              Another Crypto Ticker   \n",
       "\n",
       "                                            selftext  \n",
       "0  I have a RP4 with a 1080x1920 (portriate)  h.2...  \n",
       "1                                                     \n",
       "2  My in-laws have a ton of movies. I suggested p...  \n",
       "3                                          [removed]  \n",
       "4                                          [removed]  "
      ]
     },
     "execution_count": 5,
     "metadata": {},
     "output_type": "execute_result"
    }
   ],
   "source": [
    "# check head of raspberry pi dataframe\n",
    "raspberrypi.head()"
   ]
  },
  {
   "cell_type": "code",
   "execution_count": 6,
   "id": "183cb6cb-04da-4afd-a2be-5af3299f2d08",
   "metadata": {},
   "outputs": [
    {
     "data": {
      "text/plain": [
       "(20000, 3)"
      ]
     },
     "execution_count": 6,
     "metadata": {},
     "output_type": "execute_result"
    }
   ],
   "source": [
    "# check number of rows of data\n",
    "raspberrypi.shape"
   ]
  },
  {
   "cell_type": "code",
   "execution_count": 7,
   "id": "147d3071-e967-4b5d-9b85-8c991f57f3bd",
   "metadata": {
    "tags": []
   },
   "outputs": [
    {
     "name": "stdout",
     "output_type": "stream",
     "text": [
      "<class 'pandas.core.frame.DataFrame'>\n",
      "RangeIndex: 20000 entries, 0 to 19999\n",
      "Data columns (total 3 columns):\n",
      " #   Column     Non-Null Count  Dtype \n",
      "---  ------     --------------  ----- \n",
      " 0   subreddit  20000 non-null  object\n",
      " 1   title      20000 non-null  object\n",
      " 2   selftext   19751 non-null  object\n",
      "dtypes: object(3)\n",
      "memory usage: 468.9+ KB\n"
     ]
    }
   ],
   "source": [
    "# check nulls in dataset\n",
    "raspberrypi.info()"
   ]
  },
  {
   "cell_type": "code",
   "execution_count": 9,
   "id": "f9d6e9c0-b84f-45b9-8d6b-074742cb287e",
   "metadata": {},
   "outputs": [],
   "source": [
    "# export dataframe to csv\n",
    "raspberrypi.to_csv('../data/raspberrypi.csv', index = False)"
   ]
  }
 ],
 "metadata": {
  "kernelspec": {
   "display_name": "Python [conda env:dsi] *",
   "language": "python",
   "name": "conda-env-dsi-py"
  },
  "language_info": {
   "codemirror_mode": {
    "name": "ipython",
    "version": 3
   },
   "file_extension": ".py",
   "mimetype": "text/x-python",
   "name": "python",
   "nbconvert_exporter": "python",
   "pygments_lexer": "ipython3",
   "version": "3.8.11"
  }
 },
 "nbformat": 4,
 "nbformat_minor": 5
}
