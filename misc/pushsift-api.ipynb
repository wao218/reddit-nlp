{
 "cells": [
  {
   "cell_type": "code",
   "execution_count": 48,
   "id": "003f06e7-0704-403d-acfb-5d78fde945b1",
   "metadata": {},
   "outputs": [],
   "source": [
    "import requests\n",
    "import pandas as pd\n",
    "import time"
   ]
  },
  {
   "cell_type": "code",
   "execution_count": 2,
   "id": "88b012e7-74b3-4fad-92e7-371beebb94fc",
   "metadata": {},
   "outputs": [],
   "source": [
    "url = 'https://api.pushshift.io/reddit/search/submission'"
   ]
  },
  {
   "cell_type": "code",
   "execution_count": 24,
   "id": "e178aa89-0812-47be-9322-9f47d20451ca",
   "metadata": {},
   "outputs": [],
   "source": [
    "params = {\n",
    "    'subreddit': 'LearnUselessTalents',\n",
    "    'size': 100,\n",
    "    'before': 1627783653\n",
    "}"
   ]
  },
  {
   "cell_type": "code",
   "execution_count": 25,
   "id": "baecfb2d-df8a-473d-98fb-7e5b1c1d22bc",
   "metadata": {},
   "outputs": [],
   "source": [
    "res = requests.get(url, params)"
   ]
  },
  {
   "cell_type": "code",
   "execution_count": 26,
   "id": "378db78d-ea54-4f22-b4b8-448c517cccbf",
   "metadata": {},
   "outputs": [
    {
     "data": {
      "text/plain": [
       "200"
      ]
     },
     "execution_count": 26,
     "metadata": {},
     "output_type": "execute_result"
    }
   ],
   "source": [
    "res.status_code"
   ]
  },
  {
   "cell_type": "code",
   "execution_count": 27,
   "id": "f97c9048-b12f-439e-bb89-cfb519e7e02b",
   "metadata": {},
   "outputs": [],
   "source": [
    "posts = res.json()['data']"
   ]
  },
  {
   "cell_type": "code",
   "execution_count": 28,
   "id": "68e4da16-487d-47f8-9e3c-08f7f886b645",
   "metadata": {},
   "outputs": [
    {
     "data": {
      "text/plain": [
       "{'all_awardings': [],\n",
       " 'allow_live_comments': False,\n",
       " 'author': 'Then_Way_5360',\n",
       " 'author_flair_css_class': None,\n",
       " 'author_flair_richtext': [],\n",
       " 'author_flair_text': None,\n",
       " 'author_flair_type': 'text',\n",
       " 'author_fullname': 't2_8newiixq',\n",
       " 'author_is_blocked': False,\n",
       " 'author_patreon_flair': False,\n",
       " 'author_premium': False,\n",
       " 'awarders': [],\n",
       " 'can_mod_post': False,\n",
       " 'contest_mode': False,\n",
       " 'created_utc': 1627449937,\n",
       " 'domain': 'youtube.com',\n",
       " 'full_link': 'https://www.reddit.com/r/LearnUselessTalents/comments/ot3jun/must_learn_english/',\n",
       " 'gildings': {},\n",
       " 'id': 'ot3jun',\n",
       " 'is_created_from_ads_ui': False,\n",
       " 'is_crosspostable': False,\n",
       " 'is_meta': False,\n",
       " 'is_original_content': False,\n",
       " 'is_reddit_media_domain': False,\n",
       " 'is_robot_indexable': False,\n",
       " 'is_self': False,\n",
       " 'is_video': False,\n",
       " 'link_flair_background_color': '',\n",
       " 'link_flair_richtext': [],\n",
       " 'link_flair_text_color': 'dark',\n",
       " 'link_flair_type': 'text',\n",
       " 'locked': False,\n",
       " 'media': {'oembed': {'author_name': 'Aborakan2030',\n",
       "   'author_url': 'https://www.youtube.com/channel/UC9581QoNXn9lo4joZyu9LWA',\n",
       "   'height': 200,\n",
       "   'html': '&lt;iframe width=\"356\" height=\"200\" src=\"https://www.youtube.com/embed/2wmO869As_A?feature=oembed&amp;enablejsapi=1\" frameborder=\"0\" allow=\"accelerometer; autoplay; clipboard-write; encrypted-media; gyroscope; picture-in-picture\" allowfullscreen&gt;&lt;/iframe&gt;',\n",
       "   'provider_name': 'YouTube',\n",
       "   'provider_url': 'https://www.youtube.com/',\n",
       "   'thumbnail_height': 360,\n",
       "   'thumbnail_url': 'https://i.ytimg.com/vi/2wmO869As_A/hqdefault.jpg',\n",
       "   'thumbnail_width': 480,\n",
       "   'title': 'must learn english',\n",
       "   'type': 'video',\n",
       "   'version': '1.0',\n",
       "   'width': 356},\n",
       "  'type': 'youtube.com'},\n",
       " 'media_embed': {'content': '&lt;iframe width=\"356\" height=\"200\" src=\"https://www.youtube.com/embed/2wmO869As_A?feature=oembed&amp;enablejsapi=1\" frameborder=\"0\" allow=\"accelerometer; autoplay; clipboard-write; encrypted-media; gyroscope; picture-in-picture\" allowfullscreen&gt;&lt;/iframe&gt;',\n",
       "  'height': 200,\n",
       "  'scrolling': False,\n",
       "  'width': 356},\n",
       " 'media_only': False,\n",
       " 'no_follow': True,\n",
       " 'num_comments': 0,\n",
       " 'num_crossposts': 0,\n",
       " 'over_18': False,\n",
       " 'parent_whitelist_status': 'all_ads',\n",
       " 'permalink': '/r/LearnUselessTalents/comments/ot3jun/must_learn_english/',\n",
       " 'pinned': False,\n",
       " 'post_hint': 'rich:video',\n",
       " 'preview': {'enabled': False,\n",
       "  'images': [{'id': 'aIkLQAUkJlnQ8mNH0cEFaPzvHUzup2qcbjc75Q7GzN4',\n",
       "    'resolutions': [{'height': 81,\n",
       "      'url': 'https://external-preview.redd.it/q7yFHUivx2tF7o-9aXsNkAqD98nslMEMm8FOWOhZQbI.jpg?width=108&amp;crop=smart&amp;auto=webp&amp;s=ac0943338b0e437177842cd71fe9426bb9d7c39d',\n",
       "      'width': 108},\n",
       "     {'height': 162,\n",
       "      'url': 'https://external-preview.redd.it/q7yFHUivx2tF7o-9aXsNkAqD98nslMEMm8FOWOhZQbI.jpg?width=216&amp;crop=smart&amp;auto=webp&amp;s=660c2831e534fa1e5b02f8cb7cab1b167859a5ef',\n",
       "      'width': 216},\n",
       "     {'height': 240,\n",
       "      'url': 'https://external-preview.redd.it/q7yFHUivx2tF7o-9aXsNkAqD98nslMEMm8FOWOhZQbI.jpg?width=320&amp;crop=smart&amp;auto=webp&amp;s=2b7f38fcae0474e87644775844adfe5e6eea31a3',\n",
       "      'width': 320}],\n",
       "    'source': {'height': 360,\n",
       "     'url': 'https://external-preview.redd.it/q7yFHUivx2tF7o-9aXsNkAqD98nslMEMm8FOWOhZQbI.jpg?auto=webp&amp;s=6ba6d75dde0d498e208e7bff9345e5a373d77e29',\n",
       "     'width': 480},\n",
       "    'variants': {}}]},\n",
       " 'pwls': 6,\n",
       " 'removed_by_category': 'moderator',\n",
       " 'retrieved_on': 1627449948,\n",
       " 'score': 1,\n",
       " 'secure_media': {'oembed': {'author_name': 'Aborakan2030',\n",
       "   'author_url': 'https://www.youtube.com/channel/UC9581QoNXn9lo4joZyu9LWA',\n",
       "   'height': 200,\n",
       "   'html': '&lt;iframe width=\"356\" height=\"200\" src=\"https://www.youtube.com/embed/2wmO869As_A?feature=oembed&amp;enablejsapi=1\" frameborder=\"0\" allow=\"accelerometer; autoplay; clipboard-write; encrypted-media; gyroscope; picture-in-picture\" allowfullscreen&gt;&lt;/iframe&gt;',\n",
       "   'provider_name': 'YouTube',\n",
       "   'provider_url': 'https://www.youtube.com/',\n",
       "   'thumbnail_height': 360,\n",
       "   'thumbnail_url': 'https://i.ytimg.com/vi/2wmO869As_A/hqdefault.jpg',\n",
       "   'thumbnail_width': 480,\n",
       "   'title': 'must learn english',\n",
       "   'type': 'video',\n",
       "   'version': '1.0',\n",
       "   'width': 356},\n",
       "  'type': 'youtube.com'},\n",
       " 'secure_media_embed': {'content': '&lt;iframe width=\"356\" height=\"200\" src=\"https://www.youtube.com/embed/2wmO869As_A?feature=oembed&amp;enablejsapi=1\" frameborder=\"0\" allow=\"accelerometer; autoplay; clipboard-write; encrypted-media; gyroscope; picture-in-picture\" allowfullscreen&gt;&lt;/iframe&gt;',\n",
       "  'height': 200,\n",
       "  'media_domain_url': 'https://www.redditmedia.com/mediaembed/ot3jun',\n",
       "  'scrolling': False,\n",
       "  'width': 356},\n",
       " 'selftext': '',\n",
       " 'send_replies': True,\n",
       " 'spoiler': False,\n",
       " 'stickied': False,\n",
       " 'subreddit': 'LearnUselessTalents',\n",
       " 'subreddit_id': 't5_2u8qf',\n",
       " 'subreddit_subscribers': 675484,\n",
       " 'subreddit_type': 'public',\n",
       " 'thumbnail': 'https://b.thumbs.redditmedia.com/Vjsfrlz32XnEOlaSzw4F7PPe64-qc6lF93lnfKvUfmw.jpg',\n",
       " 'thumbnail_height': 105,\n",
       " 'thumbnail_width': 140,\n",
       " 'title': 'must learn english',\n",
       " 'total_awards_received': 0,\n",
       " 'treatment_tags': [],\n",
       " 'upvote_ratio': 1.0,\n",
       " 'url': 'https://youtube.com/watch?v=2wmO869As_A&amp;feature=share',\n",
       " 'url_overridden_by_dest': 'https://youtube.com/watch?v=2wmO869As_A&amp;feature=share',\n",
       " 'whitelist_status': 'all_ads',\n",
       " 'wls': 6}"
      ]
     },
     "execution_count": 28,
     "metadata": {},
     "output_type": "execute_result"
    }
   ],
   "source": [
    "# Self text and title is all the text we'd be pulling from\n",
    "posts[10]"
   ]
  },
  {
   "cell_type": "code",
   "execution_count": 29,
   "id": "2d1b8620-bbf3-465b-b8f9-fa07d51baa34",
   "metadata": {},
   "outputs": [
    {
     "data": {
      "text/plain": [
       "100"
      ]
     },
     "execution_count": 29,
     "metadata": {},
     "output_type": "execute_result"
    }
   ],
   "source": [
    "len(posts)"
   ]
  },
  {
   "cell_type": "code",
   "execution_count": 30,
   "id": "07a1a081-fc1b-4cd8-9f00-a7ed30667606",
   "metadata": {},
   "outputs": [
    {
     "data": {
      "text/html": [
       "<div>\n",
       "<style scoped>\n",
       "    .dataframe tbody tr th:only-of-type {\n",
       "        vertical-align: middle;\n",
       "    }\n",
       "\n",
       "    .dataframe tbody tr th {\n",
       "        vertical-align: top;\n",
       "    }\n",
       "\n",
       "    .dataframe thead th {\n",
       "        text-align: right;\n",
       "    }\n",
       "</style>\n",
       "<table border=\"1\" class=\"dataframe\">\n",
       "  <thead>\n",
       "    <tr style=\"text-align: right;\">\n",
       "      <th></th>\n",
       "      <th>subreddit</th>\n",
       "      <th>title</th>\n",
       "      <th>selftext</th>\n",
       "      <th>created_utc</th>\n",
       "    </tr>\n",
       "  </thead>\n",
       "  <tbody>\n",
       "    <tr>\n",
       "      <th>0</th>\n",
       "      <td>LearnUselessTalents</td>\n",
       "      <td>How to make a Bollywood sample into a drill beat</td>\n",
       "      <td></td>\n",
       "      <td>1627763946</td>\n",
       "    </tr>\n",
       "    <tr>\n",
       "      <th>1</th>\n",
       "      <td>LearnUselessTalents</td>\n",
       "      <td>Began learning how to produce beats</td>\n",
       "      <td></td>\n",
       "      <td>1627751583</td>\n",
       "    </tr>\n",
       "    <tr>\n",
       "      <th>2</th>\n",
       "      <td>LearnUselessTalents</td>\n",
       "      <td>NBA honors late Kentucky guard Terrence Clarke...</td>\n",
       "      <td>[removed]</td>\n",
       "      <td>1627637223</td>\n",
       "    </tr>\n",
       "    <tr>\n",
       "      <th>3</th>\n",
       "      <td>LearnUselessTalents</td>\n",
       "      <td>افضل ايتين لعلاج و ابطال السحر كيف ما كان نوعه...</td>\n",
       "      <td></td>\n",
       "      <td>1627591405</td>\n",
       "    </tr>\n",
       "    <tr>\n",
       "      <th>4</th>\n",
       "      <td>LearnUselessTalents</td>\n",
       "      <td>How to Polishing a coin</td>\n",
       "      <td></td>\n",
       "      <td>1627580459</td>\n",
       "    </tr>\n",
       "  </tbody>\n",
       "</table>\n",
       "</div>"
      ],
      "text/plain": [
       "             subreddit                                              title  \\\n",
       "0  LearnUselessTalents   How to make a Bollywood sample into a drill beat   \n",
       "1  LearnUselessTalents                Began learning how to produce beats   \n",
       "2  LearnUselessTalents  NBA honors late Kentucky guard Terrence Clarke...   \n",
       "3  LearnUselessTalents  افضل ايتين لعلاج و ابطال السحر كيف ما كان نوعه...   \n",
       "4  LearnUselessTalents                            How to Polishing a coin   \n",
       "\n",
       "    selftext  created_utc  \n",
       "0              1627763946  \n",
       "1              1627751583  \n",
       "2  [removed]   1627637223  \n",
       "3              1627591405  \n",
       "4              1627580459  "
      ]
     },
     "execution_count": 30,
     "metadata": {},
     "output_type": "execute_result"
    }
   ],
   "source": [
    "df = pd.DataFrame(posts)[['subreddit', 'title', 'selftext', 'created_utc']]\n",
    "df.head()"
   ]
  },
  {
   "cell_type": "code",
   "execution_count": 31,
   "id": "1c81cd85-1531-4631-a898-5dba827cc3ea",
   "metadata": {},
   "outputs": [
    {
     "data": {
      "text/html": [
       "<div>\n",
       "<style scoped>\n",
       "    .dataframe tbody tr th:only-of-type {\n",
       "        vertical-align: middle;\n",
       "    }\n",
       "\n",
       "    .dataframe tbody tr th {\n",
       "        vertical-align: top;\n",
       "    }\n",
       "\n",
       "    .dataframe thead th {\n",
       "        text-align: right;\n",
       "    }\n",
       "</style>\n",
       "<table border=\"1\" class=\"dataframe\">\n",
       "  <thead>\n",
       "    <tr style=\"text-align: right;\">\n",
       "      <th></th>\n",
       "      <th>subreddit</th>\n",
       "      <th>title</th>\n",
       "      <th>selftext</th>\n",
       "      <th>created_utc</th>\n",
       "    </tr>\n",
       "  </thead>\n",
       "  <tbody>\n",
       "    <tr>\n",
       "      <th>95</th>\n",
       "      <td>LearnUselessTalents</td>\n",
       "      <td>Make a can of soda pop pen loudly</td>\n",
       "      <td></td>\n",
       "      <td>1625246191</td>\n",
       "    </tr>\n",
       "    <tr>\n",
       "      <th>96</th>\n",
       "      <td>LearnUselessTalents</td>\n",
       "      <td>HOW DO I LEARN TO DO WHAT HE IS DOING?</td>\n",
       "      <td></td>\n",
       "      <td>1625229374</td>\n",
       "    </tr>\n",
       "    <tr>\n",
       "      <th>97</th>\n",
       "      <td>LearnUselessTalents</td>\n",
       "      <td>If you lie on the ground and move your arms an...</td>\n",
       "      <td></td>\n",
       "      <td>1625181547</td>\n",
       "    </tr>\n",
       "    <tr>\n",
       "      <th>98</th>\n",
       "      <td>LearnUselessTalents</td>\n",
       "      <td>Is juggling useless/ but fun to watch</td>\n",
       "      <td></td>\n",
       "      <td>1625169181</td>\n",
       "    </tr>\n",
       "    <tr>\n",
       "      <th>99</th>\n",
       "      <td>LearnUselessTalents</td>\n",
       "      <td>Easy &amp;amp; Fastest Paper AirPlanes That fly Far</td>\n",
       "      <td></td>\n",
       "      <td>1625110844</td>\n",
       "    </tr>\n",
       "  </tbody>\n",
       "</table>\n",
       "</div>"
      ],
      "text/plain": [
       "              subreddit                                              title  \\\n",
       "95  LearnUselessTalents                  Make a can of soda pop pen loudly   \n",
       "96  LearnUselessTalents             HOW DO I LEARN TO DO WHAT HE IS DOING?   \n",
       "97  LearnUselessTalents  If you lie on the ground and move your arms an...   \n",
       "98  LearnUselessTalents              Is juggling useless/ but fun to watch   \n",
       "99  LearnUselessTalents    Easy &amp; Fastest Paper AirPlanes That fly Far   \n",
       "\n",
       "   selftext  created_utc  \n",
       "95            1625246191  \n",
       "96            1625229374  \n",
       "97            1625181547  \n",
       "98            1625169181  \n",
       "99            1625110844  "
      ]
     },
     "execution_count": 31,
     "metadata": {},
     "output_type": "execute_result"
    }
   ],
   "source": [
    "df.tail()"
   ]
  },
  {
   "cell_type": "code",
   "execution_count": 51,
   "id": "c626ed65-f004-4926-8ede-0217195665c3",
   "metadata": {},
   "outputs": [],
   "source": [
    "# Good to use to put some time between server hits\n",
    "time.sleep(10)"
   ]
  },
  {
   "cell_type": "code",
   "execution_count": 44,
   "id": "6937faef-7cf8-417f-8a66-89cc95e35dcf",
   "metadata": {},
   "outputs": [],
   "source": [
    "params = {\n",
    "    'subreddit': 'LearnUselessTalents',\n",
    "    'size': 0,\n",
    "    'metadata': 'true'\n",
    "}"
   ]
  },
  {
   "cell_type": "code",
   "execution_count": 45,
   "id": "057cf1b7-018c-4f81-af56-c1385fe0d499",
   "metadata": {},
   "outputs": [],
   "source": [
    "res = requests.get(url, params)"
   ]
  },
  {
   "cell_type": "code",
   "execution_count": 46,
   "id": "909b9cba-24a8-4d48-9ea2-1b92cd0057e1",
   "metadata": {},
   "outputs": [
    {
     "data": {
      "text/plain": [
       "200"
      ]
     },
     "execution_count": 46,
     "metadata": {},
     "output_type": "execute_result"
    }
   ],
   "source": [
    "res.status_code"
   ]
  },
  {
   "cell_type": "code",
   "execution_count": 47,
   "id": "d2e64628-d224-4a1f-8741-2f4319198e8b",
   "metadata": {},
   "outputs": [
    {
     "data": {
      "text/plain": [
       "{'data': [],\n",
       " 'metadata': {'after': None,\n",
       "  'agg_size': 100,\n",
       "  'api_version': '3.0',\n",
       "  'before': None,\n",
       "  'es_query': {'query': {'bool': {'filter': {'bool': {'must': [{'terms': {'subreddit': ['learnuselesstalents']}}],\n",
       "       'should': []}},\n",
       "     'must_not': []}},\n",
       "   'size': 0,\n",
       "   'sort': {'created_utc': 'desc'}},\n",
       "  'execution_time_milliseconds': 34.33,\n",
       "  'index': 'rs',\n",
       "  'metadata': 'true',\n",
       "  'ranges': [],\n",
       "  'results_returned': 0,\n",
       "  'shards': {'failed': 0, 'skipped': 0, 'successful': 20, 'total': 24},\n",
       "  'size': 0,\n",
       "  'sort': 'desc',\n",
       "  'sort_type': 'created_utc',\n",
       "  'subreddit': ['LearnUselessTalents'],\n",
       "  'timed_out': False,\n",
       "  'total_results': 12985}}"
      ]
     },
     "execution_count": 47,
     "metadata": {},
     "output_type": "execute_result"
    }
   ],
   "source": [
    "res.json()"
   ]
  },
  {
   "cell_type": "code",
   "execution_count": null,
   "id": "5e7217a1-6add-4ab4-a130-6575cd182088",
   "metadata": {},
   "outputs": [],
   "source": []
  }
 ],
 "metadata": {
  "kernelspec": {
   "display_name": "Python [conda env:dsi] *",
   "language": "python",
   "name": "conda-env-dsi-py"
  },
  "language_info": {
   "codemirror_mode": {
    "name": "ipython",
    "version": 3
   },
   "file_extension": ".py",
   "mimetype": "text/x-python",
   "name": "python",
   "nbconvert_exporter": "python",
   "pygments_lexer": "ipython3",
   "version": "3.8.11"
  }
 },
 "nbformat": 4,
 "nbformat_minor": 5
}
